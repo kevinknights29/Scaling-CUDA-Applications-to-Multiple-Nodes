{
 "cells": [
  {
   "cell_type": "markdown",
   "metadata": {},
   "source": [
    "<div align=\"center\"><img src=\"./images/DLI_Header.png\"></div>"
   ]
  },
  {
   "cell_type": "markdown",
   "metadata": {},
   "source": [
    "# Monte Carlo Approximation of $\\pi$ - Single GPU"
   ]
  },
  {
   "cell_type": "markdown",
   "metadata": {},
   "source": [
    "We will be using the highly parallelizable [monte carlo approximation of $\\pi$](https://en.wikipedia.org/wiki/Approximations_of_%CF%80#Summing_a_circle's_area) algorithm to introduce several multi-GPU programming motifs. In this notebook we will introduce the algorithm, and begin our exploration by running it on a single GPU."
   ]
  },
  {
   "cell_type": "markdown",
   "metadata": {},
   "source": [
    "## Objectives"
   ]
  },
  {
   "cell_type": "markdown",
   "metadata": {},
   "source": [
    "By the time you complete this notebook you will:"
   ]
  },
  {
   "cell_type": "markdown",
   "metadata": {},
   "source": [
    "- Understand the key features of the monte carlo approximation of $\\pi$ algorithm.\n",
    "- Be familiar with a single GPU CUDA implementation of the algorithm upon which to explore several multi-GPU implementations."
   ]
  },
  {
   "cell_type": "markdown",
   "metadata": {},
   "source": [
    "## The Algorithm at a High Level"
   ]
  },
  {
   "cell_type": "markdown",
   "metadata": {},
   "source": [
    "A [well-known technique](https://en.wikipedia.org/wiki/Approximations_of_%CF%80#Summing_a_circle's_area) for numerically estimating $\\pi$ is to select a large number of random points within the [unit square](https://en.wikipedia.org/wiki/Unit_square) and count the fraction that fall within the [unit circle](https://en.wikipedia.org/wiki/Unit_circle). Since the area of the square is 1 and the area of the circle is $\\pi / 4$, the fraction of points that fall in the circle, multiplied by 4, is a good approximation of $\\pi$."
   ]
  },
  {
   "cell_type": "markdown",
   "metadata": {},
   "source": [
    "<center><img src=\"https://upload.wikimedia.org/wikipedia/commons/8/84/Pi_30K.gif\" width=\"600\">\n",
    "\n",
    "© [User:nicoguaro](https://commons.wikimedia.org/wiki/User:Nicoguaro) / [Wikimedia Commons](https://commons.wikimedia.org/wiki/Main_Page) / [CC-BY-3.0](https://creativecommons.org/licenses/by/3.0/deed.en)\n",
    "</center>"
   ]
  },
  {
   "cell_type": "markdown",
   "metadata": {},
   "source": [
    "## Highly Parallelizable"
   ]
  },
  {
   "cell_type": "markdown",
   "metadata": {},
   "source": [
    "A nice property of this algorithm from the perspective of parallel programming is that each random point can be evaluated independently. We only need to know a point's coordinate to evaluate whether it falls within the circle since for a point with coordinates $(x, y)$, if $x^2 + y^2 <= 1$ then the point falls within the circle, and our counter of the number of points within the circle can be incremented, so long as we handle any race conditions with respect to the counter."
   ]
  },
  {
   "cell_type": "markdown",
   "metadata": {},
   "source": [
    "## A Single GPU Implementation"
   ]
  },
  {
   "cell_type": "markdown",
   "metadata": {},
   "source": [
    "Let's see how this looks in CUDA for a single GPU. We've provided a sample implementation; click on [code/monte_carlo_pi.cpp](code/monte_carlo_pi.cpp) to open it in a new tab and review the code.\n",
    "\n",
    "Note that this code is just meant for instructional purposes, it is not meant to be especially high performance. In particular:\n",
    "\n",
    "- We're using the [device-side API](https://docs.nvidia.com/cuda/curand/device-api-overview.html) of [cuRAND](https://developer.nvidia.com/curand) to generate random numbers directly in the kernel. It's OK if you're unfamiliar with cuRAND, just know that every CUDA thread will have its own unique random numbers.\n",
    "- We're having every thread only evaluate a single value, so the arithmetic intensity is quite low.\n",
    "- We'll have a lot of atomic collisions while updating the `hits` counter.\n",
    "\n",
    "Nevertheless, we can quickly estimate   $\\pi$   using one million sample points and we should get an error compared to the correct value of only about 0.05%."
   ]
  },
  {
   "cell_type": "markdown",
   "metadata": {},
   "source": [
    "### Run the Code"
   ]
  },
  {
   "cell_type": "markdown",
   "metadata": {},
   "source": [
    "To run the code, execute the next cell. Note that in the python-based Jupyter environment you are working on, we need to prepend lines of code with `!` to indicate we wish to execute a shell command.\n",
    "\n",
    "Please note that we will be using `-x cu` so that we can write CUDA code directly in `cpp` files. While there are other good reasons we might do this, the primary reason we do this in this workshop is to automatically leverage Jupyter's `.cpp` syntax highlighting; `.cu` syntax highlighting is not automatically provided."
   ]
  },
  {
   "cell_type": "code",
   "execution_count": null,
   "metadata": {},
   "outputs": [],
   "source": [
    "!nvcc -x cu -arch=sm_70 -o monte_carlo code/monte_carlo_pi.cpp"
   ]
  },
  {
   "cell_type": "code",
   "execution_count": null,
   "metadata": {},
   "outputs": [],
   "source": [
    "%%time\n",
    "!./monte_carlo"
   ]
  },
  {
   "cell_type": "markdown",
   "metadata": {},
   "source": [
    "## Next"
   ]
  },
  {
   "cell_type": "markdown",
   "metadata": {},
   "source": [
    "Now that you are familiar with a single GPU implementation of the algorithm, you will begin work on your first multi-GPU implementation.\n",
    "\n",
    "Please open the next notebook: [_Monte Carlo Approximation of $\\pi$ - Multiple GPUs_](03_MCπ-MGPU.ipynb)."
   ]
  }
 ],
 "metadata": {
  "kernelspec": {
   "display_name": "Python 3 (ipykernel)",
   "language": "python",
   "name": "python3"
  },
  "language_info": {
   "codemirror_mode": {
    "name": "ipython",
    "version": 3
   },
   "file_extension": ".py",
   "mimetype": "text/x-python",
   "name": "python",
   "nbconvert_exporter": "python",
   "pygments_lexer": "ipython3",
   "version": "3.9.12"
  }
 },
 "nbformat": 4,
 "nbformat_minor": 4
}
